{
  "nbformat": 4,
  "nbformat_minor": 0,
  "metadata": {
    "colab": {
      "provenance": []
    },
    "kernelspec": {
      "name": "python3",
      "display_name": "Python 3"
    },
    "language_info": {
      "name": "python"
    }
  },
  "cells": [
    {
      "cell_type": "code",
      "execution_count": null,
      "metadata": {
        "id": "H7fb2msDQ1Fr"
      },
      "outputs": [],
      "source": [
        "python3 -m pip install notebook\n",
        "!wget https://github.com/cloudflare/cloudflared/releases/latest/download/cloudflared-linux-amd64 -O cloudflared\n",
        "!chmod +x cloudflared\n",
        "!sudo mv cloudflared /usr/local/bin/\n",
        "!cloudflared tunnel --url localhost:8888 & python3 -m notebook --allow-root\n"
      ]
    }
  ]
}
