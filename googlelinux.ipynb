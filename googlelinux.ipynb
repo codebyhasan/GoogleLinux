{
  "nbformat": 4,
  "nbformat_minor": 0,
  "metadata": {
    "colab": {
      "provenance": [],
      "gpuType": "T4"
    },
    "kernelspec": {
      "name": "python3",
      "display_name": "Python 3"
    },
    "language_info": {
      "name": "python"
    },
    "accelerator": "GPU"
  },
  "cells": [
    {
      "cell_type": "code",
      "source": [
        "from google.colab import drive\n",
        "drive.mount('/content/drive')"
      ],
      "metadata": {
        "id": "_H5JRg4SviFW"
      },
      "execution_count": null,
      "outputs": []
    },
    {
      "cell_type": "code",
      "execution_count": null,
      "metadata": {
        "id": "cSDL0FYLFbJN"
      },
      "outputs": [],
      "source": [
        "# Upgrade Jupyter Notebook\n",
        "!python3 -m pip install notebook --upgrade\n",
        "\n",
        "# Download and install cloudflared\n",
        "!wget https://github.com/cloudflare/cloudflared/releases/latest/download/cloudflared-linux-amd64 -O cloudflared\n",
        "!chmod +x cloudflared\n",
        "!sudo mv cloudflared /usr/local/bin/\n",
        "\n",
        "# Start cloudflared tunnel and Jupyter Notebook\n",
        "!cloudflared tunnel --url localhost:8888 &\n",
        "!python3 -m notebook --allow-root"
      ]
    }
  ]
}
